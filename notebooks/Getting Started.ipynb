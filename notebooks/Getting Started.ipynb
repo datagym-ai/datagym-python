{
 "cells": [
  {
   "cell_type": "markdown",
   "metadata": {},
   "source": [
    "# DataGym Python API\n",
    "\n",
    "Vist our Getting Started Guide <a href=\"https://docs.datagym.ai/documentation/python-api/getting-started\">https://docs.datagym.ai/documentation/python-api/getting-started</a>"
   ]
  },
  {
   "cell_type": "markdown",
   "metadata": {},
   "source": [
    "## Prerequisites \n",
    "__Python Version:__ Ensure you have one of the following Python versions installed - Python 3.6, 3.7, 3.8 <br>\n",
    "__DataGym Account:__ If you haven't got a DataGym account yet, please Sign Up <br>\n",
    "__Initial Project:__ Setup your first Project and/or label some images in your Dummy Project <br>\n",
    "__API Token:__ In order to access your Dummy Project via our Python API you need to create an API Token <br> <br>\n",
    "\n",
    "After finishing the initial preparations as described above, we have our first Dummy Project and some labeled images to work with in this tutorial. Feel free to mix in some of your own Projects and labeled data if you already used DataGym.  "
   ]
  },
  {
   "cell_type": "markdown",
   "metadata": {},
   "source": [
    "## Install Package"
   ]
  },
  {
   "cell_type": "code",
   "execution_count": null,
   "metadata": {},
   "outputs": [],
   "source": [
    "!pip install datagym"
   ]
  },
  {
   "cell_type": "markdown",
   "metadata": {},
   "source": [
    "## Getting Started"
   ]
  },
  {
   "cell_type": "markdown",
   "metadata": {
    "pycharm": {
     "name": "#%% md\n"
    }
   },
   "source": [
    "<p> 1. Import the DataGym API Wrapper </p>"
   ]
  },
  {
   "cell_type": "code",
   "execution_count": null,
   "metadata": {
    "pycharm": {
     "name": "#%%\n"
    }
   },
   "outputs": [],
   "source": [
    "from datagym import Client"
   ]
  },
  {
   "cell_type": "markdown",
   "metadata": {},
   "source": [
    "<br />\n",
    "<p> 2. Create the DataGym client with your API Token </p>"
   ]
  },
  {
   "cell_type": "code",
   "execution_count": null,
   "metadata": {},
   "outputs": [],
   "source": [
    "client = Client(api_key=\"<API_KEY>\")"
   ]
  },
  {
   "cell_type": "markdown",
   "metadata": {},
   "source": [
    "<br />\n",
    "<p> 3. Get your Projects! </p>"
   ]
  },
  {
   "cell_type": "code",
   "execution_count": null,
   "metadata": {},
   "outputs": [],
   "source": [
    "projects = client.get_projects()\n",
    "\n",
    "print(\"You have {} Projects!\".format(len(projects)))"
   ]
  },
  {
   "cell_type": "markdown",
   "metadata": {
    "pycharm": {
     "name": "#%% md\n"
    }
   },
   "source": [
    "<br />\n",
    "<p> Create your own reports! </p>"
   ]
  },
  {
   "cell_type": "code",
   "execution_count": null,
   "metadata": {
    "pycharm": {
     "name": "#%%\n"
    }
   },
   "outputs": [],
   "source": [
    "for project in projects:\n",
    "    print(\"\\n\\n{}\".format(70*\"=\"))\n",
    "    \n",
    "    print(f'{\"Project:\":<15} {project.name}')\n",
    "    print(f'{\"Description:\":<15} {project.short_description}')\n",
    "    print(f'{\"Datasets:\":<15} {len(project.datasets)}')\n",
    "    \n",
    "    for dataset in project.datasets:\n",
    "        print(\"\\n{}\".format(40*\"-\"))\n",
    "\n",
    "        print(f'{\"Dataset:\":<15} {dataset.name}')\n",
    "        print(f'{\"Description:\":<15} {dataset.short_description}')\n",
    "        print(f'{\"Images:\":<15} {len(dataset.images)}')\n"
   ]
  },
  {
   "cell_type": "markdown",
   "metadata": {
    "pycharm": {
     "name": "#%% md\n"
    }
   },
   "source": [
    "### Export Labeled Data"
   ]
  },
  {
   "cell_type": "markdown",
   "metadata": {},
   "source": [
    "Fetch the Dummy Project and export your labeled Data"
   ]
  },
  {
   "cell_type": "code",
   "execution_count": null,
   "metadata": {},
   "outputs": [],
   "source": [
    "dummy_project = client.get_project_by_name(project_name=\"Dummy_Project\")\n",
    "labeled_data = client.export_labels(project_id=dummy_project.id) "
   ]
  },
  {
   "cell_type": "markdown",
   "metadata": {},
   "source": [
    "### Download Images"
   ]
  },
  {
   "cell_type": "markdown",
   "metadata": {
    "pycharm": {
     "name": "#%% md\n"
    }
   },
   "source": [
    "Fetch the Dummy Project:"
   ]
  },
  {
   "cell_type": "code",
   "execution_count": null,
   "metadata": {
    "pycharm": {
     "name": "#%%\n"
    }
   },
   "outputs": [],
   "source": [
    "dummy_project = client.get_project_by_name(\"Dummy_Project\")"
   ]
  },
  {
   "cell_type": "markdown",
   "metadata": {
    "pycharm": {
     "name": "#%% md\n"
    }
   },
   "source": [
    "<br>\n",
    "Select the first image of the Dummy Project:"
   ]
  },
  {
   "cell_type": "code",
   "execution_count": null,
   "metadata": {},
   "outputs": [],
   "source": [
    "dummy_images = dummy_project.get_images()\n",
    "first_dummy_image = dummy_images[0] "
   ]
  },
  {
   "cell_type": "markdown",
   "metadata": {
    "pycharm": {
     "name": "#%% md\n"
    }
   },
   "source": [
    "<br>\n",
    "Download Image in Bytes"
   ]
  },
  {
   "cell_type": "code",
   "execution_count": null,
   "metadata": {},
   "outputs": [],
   "source": [
    "image_data = client.download_image_bytes(image=first_dummy_image) # byte values of the image"
   ]
  },
  {
   "cell_type": "markdown",
   "metadata": {},
   "source": [
    "<br />\n",
    "<p> Now you can process your images as you like! </p>"
   ]
  },
  {
   "cell_type": "code",
   "execution_count": null,
   "metadata": {},
   "outputs": [],
   "source": [
    "from matplotlib.pyplot import imshow\n",
    "import numpy as np\n",
    "from PIL import Image\n",
    "import io\n",
    "\n",
    "image = Image.open(io.BytesIO(image_data))\n",
    "image.show()  # Show image"
   ]
  },
  {
   "cell_type": "code",
   "execution_count": null,
   "metadata": {
    "pycharm": {
     "name": "#%%\n"
    }
   },
   "outputs": [],
   "source": [
    "from matplotlib.pyplot import imshow\n",
    "import numpy as np\n",
    "from PIL import Image\n",
    "import io\n",
    "\n",
    "image = Image.open(io.BytesIO(image_data))\n",
    "%matplotlib inline\n",
    "imshow(np.asarray(image))  # plot image"
   ]
  }
 ],
 "metadata": {
  "kernelspec": {
   "display_name": "Python 3",
   "language": "python",
   "name": "python3"
  },
  "language_info": {
   "codemirror_mode": {
    "name": "ipython",
    "version": 3
   },
   "file_extension": ".py",
   "mimetype": "text/x-python",
   "name": "python",
   "nbconvert_exporter": "python",
   "pygments_lexer": "ipython3",
   "version": "3.8.2"
  },
  "pycharm": {
   "stem_cell": {
    "cell_type": "raw",
    "source": [],
    "metadata": {
     "collapsed": false
    }
   }
  }
 },
 "nbformat": 4,
 "nbformat_minor": 4
}
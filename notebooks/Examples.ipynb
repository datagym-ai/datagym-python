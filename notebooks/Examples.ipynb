{
 "cells": [
  {
   "cell_type": "markdown",
   "metadata": {},
   "source": [
    "# Examples"
   ]
  },
  {
   "cell_type": "markdown",
   "metadata": {},
   "source": [
    "### Create a Client:"
   ]
  },
  {
   "cell_type": "code",
   "execution_count": null,
   "metadata": {},
   "outputs": [],
   "source": [
    "from datagym import Client\n",
    "\n",
    "client = Client(api_key=\"<API_KEY>\")"
   ]
  },
  {
   "cell_type": "markdown",
   "metadata": {},
   "source": [
    "## Projects\n",
    "### Get Projects"
   ]
  },
  {
   "cell_type": "code",
   "execution_count": null,
   "metadata": {},
   "outputs": [],
   "source": [
    "projects = client.get_projects()\n",
    "\n",
    "print(f'You have {len(projects)} Projects!')"
   ]
  },
  {
   "cell_type": "markdown",
   "metadata": {},
   "source": [
    "### Get Project By Name"
   ]
  },
  {
   "cell_type": "code",
   "execution_count": null,
   "metadata": {},
   "outputs": [],
   "source": [
    "dummy_project = client.get_project_by_name(project_name=\"Dummy_Project\")"
   ]
  },
  {
   "cell_type": "markdown",
   "metadata": {},
   "source": [
    "### Get Dataset from Project"
   ]
  },
  {
   "cell_type": "code",
   "execution_count": null,
   "metadata": {},
   "outputs": [],
   "source": [
    "dummy_dataset = dummy_project.get_dataset_by_name(dataset_name=\"Dummy_Dataset_One\")\n",
    "\n",
    "print(dummy_dataset)"
   ]
  },
  {
   "cell_type": "markdown",
   "metadata": {},
   "source": [
    "### Get Images from a Project by Name\n",
    "<p> with a precise search term: returns images if search_term == image_name:</p>"
   ]
  },
  {
   "cell_type": "code",
   "execution_count": null,
   "metadata": {},
   "outputs": [],
   "source": [
    "search_term = \"Sequenz%2001.00_01_29_29.Standbild010.jpg\"\n",
    "images_1 = dummy_project.get_images_by_name(image_name=search_term)\n",
    "\n",
    "print(f'Found {len(images_1)} Images for search term \\'{search_term}\\'')"
   ]
  },
  {
   "cell_type": "markdown",
   "metadata": {},
   "source": [
    "<br />\n",
    "With a regular expression: returns images if search_term matches image_name:"
   ]
  },
  {
   "cell_type": "code",
   "execution_count": null,
   "metadata": {},
   "outputs": [],
   "source": [
    "search_term = \".*Standbild00.*\"\n",
    "\n",
    "images_regex_1 = dummy_project.get_images_by_name(search_term, regex=True)\n",
    "\n",
    "print(f'Found {len(images_regex_1)} Images for search term \\'{search_term}\\' in Project \\'{dummy_project.name}\\'\\n')"
   ]
  },
  {
   "cell_type": "markdown",
   "metadata": {},
   "source": [
    "## Datasets\n",
    "### Get Datasets"
   ]
  },
  {
   "cell_type": "code",
   "execution_count": null,
   "metadata": {},
   "outputs": [],
   "source": [
    "datasets = client.get_datasets()\n",
    "\n",
    "print(f'You have {len(datasets)} Datasets!')"
   ]
  },
  {
   "cell_type": "markdown",
   "metadata": {},
   "source": [
    "### Get Datasets by Name"
   ]
  },
  {
   "cell_type": "code",
   "execution_count": null,
   "metadata": {},
   "outputs": [],
   "source": [
    "dataset_1 = client.get_dataset_by_name(\"Dummy_Dataset_One\")\n",
    "\n",
    "print(dataset_1)"
   ]
  },
  {
   "cell_type": "markdown",
   "metadata": {},
   "source": [
    "### Get Images from a Dataset by Name \n",
    "<p> with a precise search term: returns images if search_term == image_name:</p>"
   ]
  },
  {
   "cell_type": "code",
   "execution_count": null,
   "metadata": {},
   "outputs": [],
   "source": [
    "search_term = \"Sequenz%2001.00_01_29_29.Standbild010.jpg\"\n",
    "images_1 = dataset_1.get_images_by_name(image_name=search_term)\n",
    "\n",
    "print(f'Found {len(images_1)} Images for search term \\'{search_term}\\'')"
   ]
  },
  {
   "cell_type": "markdown",
   "metadata": {},
   "source": [
    "<br />\n",
    "With a regular expression: returns images if search_term matches image_name:"
   ]
  },
  {
   "cell_type": "code",
   "execution_count": null,
   "metadata": {},
   "outputs": [],
   "source": [
    "search_term = \".*Standbild00.*\"\n",
    "\n",
    "images_regex_1 = dataset_1.get_images_by_name(search_term, regex=True)\n",
    "\n",
    "print(f'Found {len(images_regex_1)} Images for search term \\'{search_term}\\' in Dataset \\'{dataset_1.name}\\'\\n')"
   ]
  },
  {
   "cell_type": "markdown",
   "metadata": {},
   "source": [
    "### Create Dataset "
   ]
  },
  {
   "cell_type": "code",
   "execution_count": null,
   "metadata": {},
   "outputs": [],
   "source": [
    "client.get_project_by_name(\"Dummy_Project\").owner"
   ]
  },
  {
   "cell_type": "code",
   "execution_count": null,
   "metadata": {},
   "outputs": [],
   "source": [
    "owner_id = dummy_project.owner\n",
    "new_dataset_1 = client.create_dataset(name=\"My_First_Dataset\", \n",
    "                                      owner=owner_id,\n",
    "                                      short_description=\"This is Optional\"\n",
    "                                     )\n",
    "print(new_dataset_1)"
   ]
  },
  {
   "cell_type": "markdown",
   "metadata": {},
   "source": [
    "#### Upload Images to Dataset:\n",
    "\n",
    "You can add as many images to your new Dataset as you want!"
   ]
  },
  {
   "cell_type": "code",
   "execution_count": null,
   "metadata": {},
   "outputs": [],
   "source": [
    "import pprint\n",
    "images_to_upload = set([\"https://cdn.pixabay.com/photo/2015/06/03/13/13/cats-796437__480.jpg\", \n",
    "                        \"https://cdn.pixabay.com/photo/2017/06/12/19/02/cat-2396473__480.jpg\", \n",
    "                        \"https://cdn.pixabay.com/photo/2012/11/26/13/58/cat-67345__480.jpg\"])\n",
    "\n",
    "images_created = client.create_images_from_urls(dataset_id=new_dataset_1.id,\n",
    "                                                image_url_set=images_to_upload)\n",
    "\n",
    "pprint.pprint(images_created)"
   ]
  },
  {
   "cell_type": "markdown",
   "metadata": {},
   "source": [
    "#### Download Images from your Dataset:\n",
    "\n",
    "You can also download Images from your Datasets"
   ]
  },
  {
   "cell_type": "code",
   "execution_count": null,
   "metadata": {},
   "outputs": [],
   "source": [
    "# Get the latest version of your new dataset\n",
    "\n",
    "new_dataset_1 = client.get_dataset_by_name(\"My_First_Dataset\") \n",
    "img_1 = new_dataset_1.images[0]\n",
    "\n",
    "print(f'Your Dataset has {len(new_dataset_1.images)} Images!')\n",
    "print(f'Let\\'s take the first image named \\'{img_1.image_name}\\'')"
   ]
  },
  {
   "cell_type": "markdown",
   "metadata": {},
   "source": [
    "<br />\n",
    "<p>Download your Image directly into your application</p>"
   ]
  },
  {
   "cell_type": "code",
   "execution_count": null,
   "metadata": {},
   "outputs": [],
   "source": [
    "img_bytes_1 = client.download_image_bytes(image=img_1)"
   ]
  },
  {
   "cell_type": "markdown",
   "metadata": {},
   "source": [
    "<br />\n",
    "<p> Now you can process your images as you like! </p>"
   ]
  },
  {
   "cell_type": "code",
   "execution_count": null,
   "metadata": {},
   "outputs": [],
   "source": [
    "from matplotlib.pyplot import imshow\n",
    "import numpy as np\n",
    "from PIL import Image\n",
    "import io\n",
    "\n",
    "image = Image.open(io.BytesIO(img_bytes_1))\n",
    "%matplotlib inline\n",
    "#image.show()\n",
    "imshow(np.asarray(image))"
   ]
  },
  {
   "cell_type": "markdown",
   "metadata": {},
   "source": [
    "... or download the image directly to your storage:"
   ]
  },
  {
   "cell_type": "code",
   "execution_count": null,
   "metadata": {},
   "outputs": [],
   "source": [
    "client.download_image(image=new_dataset_1.images[0], file_path=\"\")"
   ]
  },
  {
   "cell_type": "markdown",
   "metadata": {},
   "source": [
    "#### Delete Images from Datasets"
   ]
  },
  {
   "cell_type": "code",
   "execution_count": null,
   "metadata": {},
   "outputs": [],
   "source": [
    "new_dataset_1 = client.get_dataset_by_name(\"My_First_Dataset\") \n",
    "img_2 = new_dataset_1.images[2]\n",
    "\n",
    "delete_success = client.delete_image(image=img_2)\n",
    "\n",
    "\n",
    "print(f'Before Delete: Your Dataset has {len(new_dataset_1.images)} Images!')\n",
    "new_dataset_1 = client.get_dataset_by_name(\"My_First_Dataset\") \n",
    "print(f'After Delete: Your Dataset has {len(new_dataset_1.images)} Images!')"
   ]
  },
  {
   "cell_type": "markdown",
   "metadata": {},
   "source": [
    "### Add Datasets to your Projects\n",
    "\n",
    "Now that you have created your first dataset we can add it to a Project "
   ]
  },
  {
   "cell_type": "code",
   "execution_count": null,
   "metadata": {},
   "outputs": [],
   "source": [
    "new_dataset_1 = client.get_dataset_by_name(\"My_First_Dataset\") \n",
    "empty_project = client.get_project_by_name(\"My_First_Project\") # create this project in DataGym\n",
    "\n",
    "print(f'Your Project has {len(empty_project.datasets)} connected Datasets.')\n",
    "\n",
    "added_success = client.add_dataset(dataset_id=new_dataset_1.id,\n",
    "                                   project_id=empty_project.id)"
   ]
  },
  {
   "cell_type": "markdown",
   "metadata": {},
   "source": [
    "Don't forget to fetch your Project again with the Client to get the latest updates"
   ]
  },
  {
   "cell_type": "code",
   "execution_count": null,
   "metadata": {},
   "outputs": [],
   "source": [
    "empty_project = client.get_project_by_name(\"My_First_Project\")\n",
    "\n",
    "print(f'Now your Project has {len(empty_project.datasets)} connected Datasets.')"
   ]
  },
  {
   "cell_type": "markdown",
   "metadata": {},
   "source": [
    "### Remove Datasets from your Projects\n",
    "\n",
    "You can also remove these Datasets from you Projects"
   ]
  },
  {
   "cell_type": "code",
   "execution_count": null,
   "metadata": {},
   "outputs": [],
   "source": [
    "new_dataset_1 = client.get_dataset_by_name(\"My_First_Dataset\") \n",
    "empty_project = client.get_project_by_name(\"My_First_Project\")\n",
    "\n",
    "removed_success = client.remove_dataset(dataset_id=new_dataset_1.id,\n",
    "                                        project_id=empty_project.id)\n",
    "\n",
    "empty_project = client.get_project_by_name(\"My_First_Project\") # fetch to get the latest updates\n",
    "print(f'Your Project has {len(empty_project.datasets)} connected Datasets.')"
   ]
  },
  {
   "cell_type": "markdown",
   "metadata": {},
   "source": [
    "## Export Labels\n",
    "\n",
    "You can export and process your labeled data from your Projects within seconds "
   ]
  },
  {
   "cell_type": "code",
   "execution_count": null,
   "metadata": {},
   "outputs": [],
   "source": [
    "dummy_project = client.get_project_by_name(\"Dummy_Project\")\n",
    "\n",
    "exported_labels = client.export_labels(project_id=dummy_project.id)\n",
    "\n",
    "print(f'This project has {len(exported_labels) - 1} labeled Images')"
   ]
  },
  {
   "cell_type": "markdown",
   "metadata": {},
   "source": [
    "You can also generate a URL to download the .json-file via your Browser:"
   ]
  },
  {
   "cell_type": "code",
   "execution_count": null,
   "metadata": {},
   "outputs": [],
   "source": [
    "exported_labels_url = client.export_labels_url(project_id=dummy_project.id)\n",
    "\n",
    "print(f'Here is your labeled data: {exported_labels_url}')"
   ]
  }
 ],
 "metadata": {
  "kernelspec": {
   "display_name": "Python 3",
   "language": "python",
   "name": "python3"
  },
  "language_info": {
   "codemirror_mode": {
    "name": "ipython",
    "version": 3
   },
   "file_extension": ".py",
   "mimetype": "text/x-python",
   "name": "python",
   "nbconvert_exporter": "python",
   "pygments_lexer": "ipython3",
   "version": "3.8.2"
  }
 },
 "nbformat": 4,
 "nbformat_minor": 4
}

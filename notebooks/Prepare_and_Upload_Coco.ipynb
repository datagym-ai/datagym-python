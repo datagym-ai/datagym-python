{
 "cells": [
  {
   "cell_type": "markdown",
   "metadata": {},
   "source": [
    "## What is COCO\n",
    "\n",
    "COCO is a large-scale object detection, segmentation, and captioning dataset. COCO has several features like Object segmentation, Recognition in context, 80 object categories, over 200k labeled images and 1.5 million labeled object instances. Learn more here: http://cocodataset.org/#home\n",
    "\n",
    "The COCO dataset comes with its very own label format for each of the label categories: Detection, Captioning, Keypoints, Stuff, Panoptic. The COCO import function within the Datagym Python Package currently supports Detection and Captioning."
   ]
  },
  {
   "cell_type": "markdown",
   "metadata": {},
   "source": [
    "## Connecting and setting up\n",
    "\n",
    "Lets get started by importing our Datagym client and the Coco importer"
   ]
  },
  {
   "cell_type": "code",
   "execution_count": 1,
   "metadata": {
    "pycharm": {
     "is_executing": false
    }
   },
   "outputs": [],
   "source": [
    "from datagym import Client\n",
    "from datagym.importers.coco import Coco"
   ]
  },
  {
   "cell_type": "markdown",
   "metadata": {},
   "source": [
    "First we must define which project and dataset we will be working with. The project needs to be manually set up in your browser. "
   ]
  },
  {
   "cell_type": "code",
   "execution_count": 2,
   "metadata": {
    "pycharm": {
     "is_executing": false
    }
   },
   "outputs": [],
   "source": [
    "PROJECT_NAME = \"Coco\"\n",
    "DATASET_NAME = \"coco_val2017\""
   ]
  },
  {
   "cell_type": "markdown",
   "metadata": {},
   "source": [
    "Connect with your personal API key and get your project by name"
   ]
  },
  {
   "cell_type": "code",
   "execution_count": 3,
   "metadata": {},
   "outputs": [],
   "source": [
    "client = Client(api_key=\"<API_KEY>\")\n",
    "project = client.get_project_by_name(project_name=PROJECT_NAME)"
   ]
  },
  {
   "cell_type": "markdown",
   "metadata": {},
   "source": [
    "Create new Dataset, here we wrap the dataset creation in a try/except clause in case the dataset is already created"
   ]
  },
  {
   "cell_type": "code",
   "execution_count": 4,
   "metadata": {},
   "outputs": [],
   "source": [
    "import warnings\n",
    "from datagym import ClientException\n",
    "try:\n",
    "    dataset = client.create_dataset(name=DATASET_NAME, short_description=\"Images from the coco validation set 2017\")\n",
    "except ClientException as e:\n",
    "    warnings.warn(e.args[0])"
   ]
  },
  {
   "cell_type": "markdown",
   "metadata": {},
   "source": [
    "Now we create our list of image urls that we want to upload to our dataset. This list of urls won't necessarily be the same for you, depending where you have saved your images. In this case we chose to create a list of the coco_urls that are provided within the coco json files. "
   ]
  },
  {
   "cell_type": "code",
   "execution_count": 5,
   "metadata": {},
   "outputs": [
    {
     "name": "stdout",
     "output_type": "stream",
     "text": [
      "Number of URLs: 5000\n",
      "Example URL: http://images.cocodataset.org/val2017/000000397133.jpg\n"
     ]
    }
   ],
   "source": [
    "import json\n",
    "\n",
    "image_url_list = []\n",
    "local_coco_json_path = \"PATH_TO_instances_YEAR.json\"  # .../instances_val2017.json for example\n",
    "\n",
    "with open(local_coco_json_path) as json_file:\n",
    "    data = json.load(json_file)\n",
    "\n",
    "for image in data[\"images\"]:\n",
    "    image_url_list.append(image[\"coco_url\"])\n",
    "\n",
    "print(\"Number of URLs: {}\".format(len(image_url_list)))\n",
    "print(\"Example URL: {}\".format(list(image_url_list)[0]))"
   ]
  },
  {
   "cell_type": "markdown",
   "metadata": {},
   "source": [
    "Here we are choosing to upload the first 200 coco images from the url list."
   ]
  },
  {
   "cell_type": "code",
   "execution_count": 6,
   "metadata": {},
   "outputs": [
    {
     "name": "stdout",
     "output_type": "stream",
     "text": [
      "200 Images uploaded\n"
     ]
    }
   ],
   "source": [
    "amount_images = 200\n",
    "\n",
    "dataset = client.get_dataset_by_name(dataset_name=DATASET_NAME)\n",
    "upload_results = client.create_images_from_urls(dataset_id=dataset.id, image_url_list=image_url_list[:amount_images])\n",
    "print(f\"{amount_images} Images uploaded\")"
   ]
  },
  {
   "cell_type": "markdown",
   "metadata": {},
   "source": [
    "In case the dataset is not already attached to the project, this is done here. Again wrapped in try/except in case they are already connected to one another. "
   ]
  },
  {
   "cell_type": "code",
   "execution_count": 7,
   "metadata": {},
   "outputs": [],
   "source": [
    "project = client.get_project_by_name(project_name=PROJECT_NAME)\n",
    "dataset = client.get_dataset_by_name(dataset_name=DATASET_NAME)\n",
    "\n",
    "from datagym import APIException\n",
    "try:\n",
    "    client.add_dataset(dataset_id=dataset.id, project_id=project.id)\n",
    "except APIException as e:\n",
    "    warnings.warn(e.args[0])"
   ]
  },
  {
   "cell_type": "markdown",
   "metadata": {},
   "source": [
    "Create image id dictionary that returns the internal datagym image id when given an image name"
   ]
  },
  {
   "cell_type": "code",
   "execution_count": 8,
   "metadata": {},
   "outputs": [
    {
     "name": "stdout",
     "output_type": "stream",
     "text": [
      "One example from the image_ids_dict:\n",
      " {\"000000476415.jpg\" : \"0e7cdfdb-db25-44a4-b362-b8a944f42382\"}\n"
     ]
    }
   ],
   "source": [
    "image_ids_dict = dict()\n",
    "\n",
    "for image in dataset.images:\n",
    "    image_ids_dict[image.image_name] = image.id\n",
    "    \n",
    "print(f'One example from the image_ids_dict:\\n {{\"{image.image_name}\" : \"{image_ids_dict[image.image_name]}\"}}')"
   ]
  },
  {
   "cell_type": "markdown",
   "metadata": {},
   "source": [
    "Load coco labels from teh respective jsons. \n",
    "\n",
    "__coco.add_object_detection_data__ is used for all instances__**__.json.\n",
    "\n",
    "The when using the add_object_detection_data method you can either choose to upload the bounding box or the polygon containing the object.\n",
    "\n",
    "__coco.add_captions_data__ is used for all captions__**__.json."
   ]
  },
  {
   "cell_type": "code",
   "execution_count": 9,
   "metadata": {
    "pycharm": {
     "is_executing": false
    }
   },
   "outputs": [],
   "source": [
    "coco = Coco()\n",
    "\n",
    "with open(\"PATH_TO_instances_YEAR.json\") as json_file:    # .../instances_val2017.json for example\n",
    "    instances_data = json.load(json_file)\n",
    "with open(\"PATH_TO_captions_YEAR.json\") as json_file:    # .../captions_val2017.json for example\n",
    "    captions_data = json.load(json_file)\n",
    "\n",
    "coco.add_object_detection_data(instances_data, polygon=False)\n",
    "coco.add_captions_data(captions_data)"
   ]
  },
  {
   "cell_type": "markdown",
   "metadata": {},
   "source": [
    "Now that we have added all the relevant labels from their respective json files, we are ready to convert them into the uploadable datagym json file. Here we will also print the first entry."
   ]
  },
  {
   "cell_type": "code",
   "execution_count": 10,
   "metadata": {},
   "outputs": [
    {
     "name": "stdout",
     "output_type": "stream",
     "text": [
      "{'global_classifications': {'caption': ['A table with pies being made and a '\n",
      "                                        'person standing near a wall with pots '\n",
      "                                        'and pans hanging on the wall.']},\n",
      " 'internal_image_ID': 'd80e3cc7-1cbc-41a4-8889-d5bf83fb5ee5',\n",
      " 'keepData': False,\n",
      " 'labels': {'appliance': [{'classifications': {'appliance_type': ['oven']},\n",
      "                           'geometry': [{'h': 98.37,\n",
      "                                         'w': 192.56,\n",
      "                                         'x': 1.36,\n",
      "                                         'y': 164.33}]},\n",
      "                          {'classifications': {'appliance_type': ['oven']},\n",
      "                           'geometry': [{'h': 98.98,\n",
      "                                         'w': 191.36,\n",
      "                                         'x': 0.0,\n",
      "                                         'y': 210.9}]},\n",
      "                          {'classifications': {'appliance_type': ['sink']},\n",
      "                           'geometry': [{'h': 28.61,\n",
      "                                         'w': 122.01,\n",
      "                                         'x': 497.25,\n",
      "                                         'y': 203.4}]}],\n",
      "            'food': [{'classifications': {'food_type': ['broccoli']},\n",
      "                      'geometry': [{'h': 5.57,\n",
      "                                    'w': 10.78,\n",
      "                                    'x': 98.75,\n",
      "                                    'y': 304.78}]},\n",
      "                     {'classifications': {'food_type': ['broccoli']},\n",
      "                      'geometry': [{'h': 11.18,\n",
      "                                    'w': 23.96,\n",
      "                                    'x': 86.41,\n",
      "                                    'y': 293.97}]},\n",
      "                     {'classifications': {'food_type': ['broccoli']},\n",
      "                      'geometry': [{'h': 4.58,\n",
      "                                    'w': 9.28,\n",
      "                                    'x': 70.14,\n",
      "                                    'y': 296.16}]},\n",
      "                     {'classifications': {'food_type': ['carrot']},\n",
      "                      'geometry': [{'h': 4.86,\n",
      "                                    'w': 7.84,\n",
      "                                    'x': 96.69,\n",
      "                                    'y': 297.09}]}],\n",
      "            'furniture': [{'classifications': {'furniture_type': ['dining '\n",
      "                                                                  'table']},\n",
      "                           'geometry': [{'h': 186.76,\n",
      "                                         'w': 346.63,\n",
      "                                         'x': 1.0,\n",
      "                                         'y': 240.24}]}],\n",
      "            'kitchen': [{'classifications': {'kitchen_type': ['bottle']},\n",
      "                         'geometry': [{'h': 57.75,\n",
      "                                       'w': 38.99,\n",
      "                                       'x': 217.62,\n",
      "                                       'y': 240.54}]},\n",
      "                        {'classifications': {'kitchen_type': ['knife']},\n",
      "                         'geometry': [{'h': 28.79,\n",
      "                                       'w': 22.32,\n",
      "                                       'x': 135.57,\n",
      "                                       'y': 249.43}]},\n",
      "                        {'classifications': {'kitchen_type': ['bowl']},\n",
      "                         'geometry': [{'h': 40.83,\n",
      "                                       'w': 68.12,\n",
      "                                       'x': 31.28,\n",
      "                                       'y': 344.0}]},\n",
      "                        {'classifications': {'kitchen_type': ['bowl']},\n",
      "                         'geometry': [{'h': 41.3,\n",
      "                                       'w': 76.07,\n",
      "                                       'x': 59.63,\n",
      "                                       'y': 287.36}]},\n",
      "                        {'classifications': {'kitchen_type': ['cup']},\n",
      "                         'geometry': [{'h': 34.25,\n",
      "                                       'w': 24.82,\n",
      "                                       'x': 119.4,\n",
      "                                       'y': 272.51}]},\n",
      "                        {'classifications': {'kitchen_type': ['cup']},\n",
      "                         'geometry': [{'h': 35.86,\n",
      "                                       'w': 32.19,\n",
      "                                       'x': 141.47,\n",
      "                                       'y': 267.91}]},\n",
      "                        {'classifications': {'kitchen_type': ['bowl']},\n",
      "                         'geometry': [{'h': 17.13,\n",
      "                                       'w': 26.03,\n",
      "                                       'x': 155.97,\n",
      "                                       'y': 168.95}]},\n",
      "                        {'classifications': {'kitchen_type': ['bowl']},\n",
      "                         'geometry': [{'h': 15.82,\n",
      "                                       'w': 17.86,\n",
      "                                       'x': 157.2,\n",
      "                                       'y': 114.15}]},\n",
      "                        {'classifications': {'kitchen_type': ['spoon']},\n",
      "                         'geometry': [{'h': 18.58,\n",
      "                                       'w': 8.82,\n",
      "                                       'x': 166.03,\n",
      "                                       'y': 256.36}]}],\n",
      "            'person': [{'classifications': {'person_type': ['person']},\n",
      "                        'geometry': [{'h': 277.62,\n",
      "                                      'w': 109.41,\n",
      "                                      'x': 388.66,\n",
      "                                      'y': 69.92}]},\n",
      "                       {'classifications': {'person_type': ['person']},\n",
      "                        'geometry': [{'h': 36.77,\n",
      "                                      'w': 62.16,\n",
      "                                      'x': 0.0,\n",
      "                                      'y': 262.81}]}]}}\n"
     ]
    }
   ],
   "source": [
    "upload_dict = coco.get_datagym_label_dict(image_ids_dict)\n",
    "\n",
    "import pprint\n",
    "pprint.pprint(upload_dict[0])"
   ]
  },
  {
   "cell_type": "markdown",
   "metadata": {},
   "source": [
    "Finally we can upload our json file to our datagym project, before we do so, it is important to make sure the label configuration contains all the coco super-categories and a field for the caption upload. Make sure that all geometries contain a nested freetext classification with a export key with the following naming scheme. See our extensive [documentation](https://docs.datagym.ai/documentation/label-configuration/what-is-a-label-configuration) for more information on how to set up your label configuration."
   ]
  },
  {
   "cell_type": "code",
   "execution_count": 11,
   "metadata": {},
   "outputs": [
    {
     "name": "stdout",
     "output_type": "stream",
     "text": [
      "==================== Geometries ==================== \n",
      "\n",
      "Rectangle: indoor \n",
      "\t Freetext: indoor_type \n",
      "\n",
      "Rectangle: vehicle \n",
      "\t Freetext: vehicle_type \n",
      "\n",
      "Rectangle: kitchen \n",
      "\t Freetext: kitchen_type \n",
      "\n",
      "Rectangle: sports \n",
      "\t Freetext: sports_type \n",
      "\n",
      "Rectangle: accessory \n",
      "\t Freetext: accessory_type \n",
      "\n",
      "Rectangle: person \n",
      "\t Freetext: person_type \n",
      "\n",
      "Rectangle: food \n",
      "\t Freetext: food_type \n",
      "\n",
      "Rectangle: appliance \n",
      "\t Freetext: appliance_type \n",
      "\n",
      "Rectangle: outdoor \n",
      "\t Freetext: outdoor_type \n",
      "\n",
      "Rectangle: electronic \n",
      "\t Freetext: electronic_type \n",
      "\n",
      "Rectangle: furniture \n",
      "\t Freetext: furniture_type \n",
      "\n",
      "Rectangle: animal \n",
      "\t Freetext: animal_type \n",
      "\n",
      "==================== Global classifications ==================== \n",
      "\n",
      "Freetext: caption\n"
     ]
    }
   ],
   "source": [
    "geometry_type = \"Rectangle\"    # Replace with \"Polygon\" if you choose to upload polygons instead of bbox\n",
    "\n",
    "annotations = coco.category_dict\n",
    "categories = set([annotation['supercategory'] for _, annotation in annotations.items()])\n",
    "print(\"{} Geometries {} \\n\".format(20*\"=\", 20*\"=\"))\n",
    "for val in categories:\n",
    "    print(f\"{geometry_type}: {val} \\n\\t Freetext: {val}_type \\n\")\n",
    "print(\"{} Global classifications {} \\n\\nFreetext: caption\".format(20*\"=\", 20*\"=\"))"
   ]
  },
  {
   "cell_type": "markdown",
   "metadata": {},
   "source": [
    "With your Label configuration successfully set up you are now ready to upload your coco labels."
   ]
  },
  {
   "cell_type": "code",
   "execution_count": 12,
   "metadata": {},
   "outputs": [],
   "source": [
    "project = client.get_project_by_name(project_name=PROJECT_NAME)\n",
    "\n",
    "errors = client.import_label_data(project_id=project.id, label_data=upload_dict)"
   ]
  }
 ],
 "metadata": {
  "kernelspec": {
   "display_name": "Python 3",
   "language": "python",
   "name": "python3"
  },
  "language_info": {
   "codemirror_mode": {
    "name": "ipython",
    "version": 3
   },
   "file_extension": ".py",
   "mimetype": "text/x-python",
   "name": "python",
   "nbconvert_exporter": "python",
   "pygments_lexer": "ipython3",
   "version": "3.8.2"
  },
  "pycharm": {
   "stem_cell": {
    "cell_type": "raw",
    "metadata": {
     "collapsed": false
    },
    "source": []
   }
  }
 },
 "nbformat": 4,
 "nbformat_minor": 1
}

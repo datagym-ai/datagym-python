{
 "cells": [
  {
   "cell_type": "markdown",
   "metadata": {},
   "source": [
    "# OpenCV Video Player\n",
    "\n",
    "## Finding the project and setting up\n",
    "\n",
    "Let's get started by importing our Datagym client and getting our project."
   ]
  },
  {
   "cell_type": "code",
   "execution_count": 3,
   "metadata": {
    "pycharm": {
     "name": "#%%\n"
    },
    "scrolled": true
   },
   "outputs": [
    {
     "name": "stdout",
     "output_type": "stream",
     "text": [
      "\n",
      "Project:           Video_Dummy\n",
      "Project_id:        42a564aa-0bbb-4a9e-b780-e2a973a7c507\n",
      "Description:       Dummy video project for video support\n",
      "Media Type:        VIDEO\n",
      "Datasets:          1 \n",
      "----------------------------------------\n",
      "\n",
      "    Dataset:           Dummy_Video_Dataset\n",
      "    Dataset_id:        dc89057e-650e-4ed6-af4a-cd19c6055cca\n",
      "    Description:       None\n",
      "    Media Type:        VIDEO\n",
      "    Videos:            5\n",
      "    \n"
     ]
    }
   ],
   "source": [
    "from datagym import Client\n",
    "\n",
    "client = Client(api_key=\"<API_KEY>\")\n",
    "\n",
    "project = client.get_project_by_name(\"Video_Dummy\")\n",
    "\n",
    "print(project)"
   ]
  },
  {
   "cell_type": "markdown",
   "metadata": {},
   "source": [
    "## Exporting the labels\n",
    "\n",
    "We can export all labels that belongs to a project."
   ]
  },
  {
   "cell_type": "code",
   "execution_count": 4,
   "metadata": {
    "pycharm": {
     "name": "#%%\n"
    }
   },
   "outputs": [
    {
     "name": "stdout",
     "output_type": "stream",
     "text": [
      "Label classes:\n",
      "{'class_name': 'cup', 'geometry_type': 'rectangle'}\n",
      "{'class_name': 'other', 'geometry_type': 'rectangle'}\n",
      "{'class_name': 'material', 'classification_type': 'select'}\n",
      "{'class_name': 'object_name', 'classification_type': 'freetext'}\n",
      "Tasks:\n",
      "1618923766721_vid2.mp4   \tcompleted\n",
      "  frames                 \t246\n",
      "  objects                \t2\n",
      "1618926555949_HayDay.mp4 \tcompleted\n",
      "  frames                 \t955\n",
      "  objects                \t10\n",
      "1618923764297_vid1.mp4   \tcompleted\n",
      "  frames                 \t266\n",
      "  objects                \t2\n",
      "1618926554122_Harvester.mp4\tcompleted\n",
      "  frames                 \t351\n",
      "  objects                \t2\n",
      "1618923760729_vid0.mp4   \tcompleted\n",
      "  frames                 \t270\n",
      "  objects                \t2\n"
     ]
    }
   ],
   "source": [
    "exported_labels = client.export_labels(project.id)\n",
    "\n",
    "print(\"Label classes:\")\n",
    "for classes in exported_labels[0]['label_classes']:\n",
    "    print(classes)\n",
    "\n",
    "print(\"Tasks:\")\n",
    "for task in exported_labels[1:]:\n",
    "    print(f'{task[\"external_media_ID\"]:<25}\\t{task[\"status\"]}')\n",
    "    if 'labels' in task:\n",
    "        print(f'{\"  frames\":<25}\\t{len(task[\"labels\"][\"frames\"])}')\n",
    "        print(f'{\"  objects\":<25}\\t{len(task[\"labels\"][\"object\"])}')"
   ]
  },
  {
   "cell_type": "markdown",
   "metadata": {},
   "source": [
    "Or we can iterate through the videos and export one by one as we need them.\n",
    "In this case we want the HayDay video."
   ]
  },
  {
   "cell_type": "code",
   "execution_count": 5,
   "metadata": {
    "pycharm": {
     "name": "#%%\n"
    }
   },
   "outputs": [
    {
     "name": "stdout",
     "output_type": "stream",
     "text": [
      "internal_media_ID   \tcfa12048-94d9-4463-9b20-6685f3ae030e\n",
      "external_media_ID   \t1618926555949_HayDay.mp4\n",
      "labeler             \tNone\n",
      "status              \tcompleted\n",
      "task_export_url     \thttps://datagym.dev.eforce21.com/api/v1/exportVideoTask/2a38755c-0e85-48a0-a5f6-6eb3652a0909/\n",
      "video_height        \t1080\n",
      "video_width         \t1920\n",
      "video_total_frames  \t1355\n",
      "video_frame_rate    \t48633600/1622741\n",
      "video_duration      \t45.21183\n",
      "labels\n",
      "  frames            \t955\n",
      "  objects           \t10\n"
     ]
    }
   ],
   "source": [
    "def get_video_and_labels_with_videoname(video_name):\n",
    "    if project.media_type == \"VIDEO\":\n",
    "        for media in project.get_media():\n",
    "            if video_name in media.video_name:\n",
    "                _exported_labels = client.export_single_video_labels(project.id, media.id)\n",
    "                return media, _exported_labels\n",
    "\n",
    "video, exported_labels = get_video_and_labels_with_videoname(\"HayDay\")\n",
    "\n",
    "data_frames = exported_labels['labels']['frames']\n",
    "data_objects = exported_labels['labels']['object']\n",
    "\n",
    "for k,v in exported_labels.items():\n",
    "    if k =='labels':\n",
    "        print('labels')\n",
    "        print(f'{\"  frames\":<20}\\t{len(v[\"frames\"])}')\n",
    "        print(f'{\"  objects\":<20}\\t{len(v[\"object\"])}')\n",
    "    else:\n",
    "        print(f'{k:<20}\\t{v}')"
   ]
  },
  {
   "cell_type": "markdown",
   "metadata": {},
   "source": [
    "### Download video\n",
    "\n",
    "Download the video if you didn't already."
   ]
  },
  {
   "cell_type": "code",
   "execution_count": 6,
   "metadata": {
    "scrolled": true
   },
   "outputs": [
    {
     "name": "stdout",
     "output_type": "stream",
     "text": [
      "Video already exists.\n"
     ]
    }
   ],
   "source": [
    "from pathlib import Path\n",
    "\n",
    "videos_folder = 'videos'\n",
    "path_dir = Path(videos_folder)\n",
    "video_path = path_dir.joinpath(video.video_name)\n",
    "\n",
    "if not video_path.is_file():\n",
    "    client.download_video(video, videos_folder)\n",
    "    print(\"Video Downloaded.\")\n",
    "else:\n",
    "    print(\"Video already exists.\")\n"
   ]
  },
  {
   "cell_type": "markdown",
   "metadata": {},
   "source": [
    "## Setting up the Data\n",
    "\n",
    "Apply linear interpolation to each object to fill the gaps between keyframes."
   ]
  },
  {
   "cell_type": "code",
   "execution_count": 7,
   "metadata": {},
   "outputs": [],
   "source": [
    "def linear_interpolator(visible_object):\n",
    "    visible_object = {int(k):v for k,v in visible_object.items()}\n",
    "    keyframes = sorted(list(visible_object.keys()))\n",
    "    \n",
    "    interpolatedVisibleObject = dict()\n",
    "    previous_keyframe = min(keyframes)\n",
    "    \n",
    "    for i in range(min(keyframes),max(keyframes)+1):\n",
    "        if i in keyframes:\n",
    "            interpolatedVisibleObject[i] = visible_object[i]\n",
    "            previous_keyframe = i\n",
    "            keyframes.remove(i)\n",
    "        else:\n",
    "            next_keyframe = keyframes[0]\n",
    "            \n",
    "            dist_between_keyframes = next_keyframe - previous_keyframe\n",
    "            dist_to_previous_keyframe = i - previous_keyframe\n",
    "            \n",
    "            fraction = dist_to_previous_keyframe/dist_between_keyframes\n",
    "\n",
    "            previous_object = visible_object[previous_keyframe]['rectangle'][0]\n",
    "            next_object = visible_object[next_keyframe]['rectangle'][0]\n",
    "            \n",
    "            interpolated_object = {'rectangle':\n",
    "                                   [{\n",
    "                                       'w' : int(previous_object['w'] + (next_object['w']-previous_object['w']) * fraction),\n",
    "                                       'h' : int(previous_object['h'] + (next_object['h']-previous_object['h']) * fraction),\n",
    "                                       'x' : int(previous_object['x'] + (next_object['x']-previous_object['x']) * fraction),\n",
    "                                       'y' : int(previous_object['y'] + (next_object['y']-previous_object['y']) * fraction)\n",
    "                                   }]\n",
    "                                  }\n",
    "            interpolatedVisibleObject[i] = interpolated_object\n",
    "    \n",
    "    return interpolatedVisibleObject\n",
    "\n",
    "for visibleObject in data_objects:\n",
    "    data_objects[visibleObject] = linear_interpolator(data_objects[visibleObject])"
   ]
  },
  {
   "cell_type": "markdown",
   "source": [
    "Use ColorMap to give unique color to each object."
   ],
   "metadata": {
    "collapsed": false
   }
  },
  {
   "cell_type": "code",
   "execution_count": 8,
   "metadata": {},
   "outputs": [],
   "source": [
    "import numpy as np\n",
    "from matplotlib import cm\n",
    "%matplotlib notebook\n",
    "\n",
    "class ColorMap:  \n",
    "\n",
    "    def __init__(self, visible_object_classes):\n",
    "        self.classes = visible_object_classes\n",
    "        self.evenly_spaced_interval = np.linspace(0, 1, len(self.classes))\n",
    "        self.colors = [cm.rainbow(x) for x in self.evenly_spaced_interval]\n",
    "        self.create_color_map()\n",
    "        \n",
    "    def create_color_map(self):\n",
    "        self.color_map = dict()\n",
    "        for idx, val in enumerate(self.classes):\n",
    "            color = [int(255*item) for item in self.colors[idx]][:3][::-1]\n",
    "            self.color_map[val] = color\n",
    "\n",
    "    def get_color(self, visible_object_clss):\n",
    "        return self.color_map[visible_object_clss]\n",
    "\n",
    "colormap = ColorMap(list(data_objects.keys()))\n"
   ]
  },
  {
   "cell_type": "markdown",
   "metadata": {},
   "source": [
    "## Display the Video with the Labels\n",
    "\n",
    "First, set up cv2 video capture, and some properties that we will use later.\n",
    "Then you can set up key actions to control the video or mouse actions to get information about boxes.\n",
    "Finally, we start the loop and draw boxes on the images for each frame."
   ]
  },
  {
   "cell_type": "code",
   "execution_count": 9,
   "outputs": [
    {
     "ename": "KeyError",
     "evalue": "'24'",
     "output_type": "error",
     "traceback": [
      "\u001B[0;31m---------------------------------------------------------------------------\u001B[0m",
      "\u001B[0;31mKeyError\u001B[0m                                  Traceback (most recent call last)",
      "\u001B[0;32m<ipython-input-9-9502b0a105d4>\u001B[0m in \u001B[0;36mclick_action\u001B[0;34m(event, x, y, flags, param)\u001B[0m\n\u001B[1;32m     47\u001B[0m \u001B[0;32mdef\u001B[0m \u001B[0mclick_action\u001B[0m\u001B[0;34m(\u001B[0m\u001B[0mevent\u001B[0m\u001B[0;34m,\u001B[0m \u001B[0mx\u001B[0m\u001B[0;34m,\u001B[0m \u001B[0my\u001B[0m\u001B[0;34m,\u001B[0m \u001B[0mflags\u001B[0m\u001B[0;34m,\u001B[0m \u001B[0mparam\u001B[0m\u001B[0;34m)\u001B[0m\u001B[0;34m:\u001B[0m\u001B[0;34m\u001B[0m\u001B[0;34m\u001B[0m\u001B[0m\n\u001B[1;32m     48\u001B[0m     \u001B[0;32mif\u001B[0m \u001B[0mevent\u001B[0m \u001B[0;34m==\u001B[0m \u001B[0mcv2\u001B[0m\u001B[0;34m.\u001B[0m\u001B[0mEVENT_LBUTTONDOWN\u001B[0m\u001B[0;34m:\u001B[0m\u001B[0;34m\u001B[0m\u001B[0;34m\u001B[0m\u001B[0m\n\u001B[0;32m---> 49\u001B[0;31m         \u001B[0;32mfor\u001B[0m \u001B[0mitem\u001B[0m \u001B[0;32min\u001B[0m \u001B[0mdata_frames\u001B[0m\u001B[0;34m[\u001B[0m\u001B[0mstr\u001B[0m\u001B[0;34m(\u001B[0m\u001B[0mframe_counter\u001B[0m\u001B[0;34m)\u001B[0m\u001B[0;34m]\u001B[0m\u001B[0;34m:\u001B[0m\u001B[0;34m\u001B[0m\u001B[0;34m\u001B[0m\u001B[0m\n\u001B[0m\u001B[1;32m     50\u001B[0m                 \u001B[0mitem_id\u001B[0m \u001B[0;34m=\u001B[0m \u001B[0mitem\u001B[0m\u001B[0;34m[\u001B[0m\u001B[0;34m'visibleObjectId'\u001B[0m\u001B[0;34m]\u001B[0m\u001B[0;34m\u001B[0m\u001B[0;34m\u001B[0m\u001B[0m\n\u001B[1;32m     51\u001B[0m                 \u001B[0;32mif\u001B[0m \u001B[0mframe_counter\u001B[0m \u001B[0;32min\u001B[0m \u001B[0mdata_objects\u001B[0m\u001B[0;34m[\u001B[0m\u001B[0mitem_id\u001B[0m\u001B[0;34m]\u001B[0m\u001B[0;34m:\u001B[0m\u001B[0;34m\u001B[0m\u001B[0;34m\u001B[0m\u001B[0m\n",
      "\u001B[0;31mKeyError\u001B[0m: '24'"
     ]
    }
   ],
   "source": [
    "import cv2\n",
    "import time\n",
    "\n",
    "cap = cv2.VideoCapture(str(video_path))\n",
    "\n",
    "window_name = \"DataGym Video\"\n",
    "cv2.namedWindow(window_name)\n",
    "\n",
    "# Video information\n",
    "video_fps = cap.get(cv2.CAP_PROP_FPS)\n",
    "width  = cap.get(cv2.CAP_PROP_FRAME_WIDTH)\n",
    "height = cap.get(cv2.CAP_PROP_FRAME_HEIGHT)\n",
    "no_of_frames = cap.get(cv2.CAP_PROP_FRAME_COUNT)\n",
    "font = cv2.FONT_HERSHEY_SIMPLEX\n",
    "\n",
    "\n",
    "# We can set up keys to pause, go back and forth.\n",
    "# **params can be used to pass parameters to key actions.\n",
    "def quit_key_action(**params):\n",
    "    global is_quit\n",
    "    is_quit = True\n",
    "def rewind_key_action(**params):\n",
    "    global frame_counter\n",
    "    frame_counter = max(0, int(frame_counter - (video_fps * 5)))\n",
    "    cap.set(cv2.CAP_PROP_POS_FRAMES, frame_counter)\n",
    "def forward_key_action(**params):\n",
    "    global frame_counter\n",
    "    frame_counter = min(int(frame_counter + (video_fps * 5)), no_of_frames - 1)\n",
    "    cap.set(cv2.CAP_PROP_POS_FRAMES, frame_counter)\n",
    "def pause_key_action(**params):\n",
    "    global is_paused\n",
    "    is_paused = not is_paused\n",
    "# Map keys to buttons\n",
    "key_action_dict = {\n",
    "    ord('q'): quit_key_action,\n",
    "    ord('a'): rewind_key_action,\n",
    "    ord('d'): forward_key_action,\n",
    "    ord('s'): pause_key_action,\n",
    "    ord(' '): pause_key_action\n",
    "}\n",
    "def key_action(_key):\n",
    "    if _key in key_action_dict:\n",
    "        key_action_dict[_key]()\n",
    "\n",
    "\n",
    "# We can setup mouse actions\n",
    "def click_action(event, x, y, flags, param):\n",
    "    if event == cv2.EVENT_LBUTTONDOWN:\n",
    "        for item in data_frames[str(frame_counter)]:\n",
    "                item_id = item['visibleObjectId']\n",
    "                if frame_counter in data_objects[item_id]:\n",
    "                    bbox = data_objects[item_id][frame_counter]['rectangle']\n",
    "                    if bbox[0]['x'] < x < bbox[0]['x']+bbox[0]['w'] \\\n",
    "                            and bbox[0]['y'] < y < bbox[0]['y']+bbox[0]['h']:\n",
    "                        print(\"Info about item:\", item)\n",
    "cv2.setMouseCallback(window_name, click_action)\n",
    "\n",
    "prev_time = time.time() # Used to track real fps\n",
    "frame_counter = 0       # Used to track which frame are we.\n",
    "is_quit = False         # Used to signal that quit is called\n",
    "is_paused = False       # Used to signal that pause is called\n",
    "\n",
    "try:\n",
    "    while cap.isOpened():\n",
    "        # If the video is paused, we don't continue reading frames.\n",
    "        if is_quit:\n",
    "            # Do something when quiting\n",
    "            break\n",
    "        elif is_paused:\n",
    "            # Do something when paused\n",
    "            pass\n",
    "        else:\n",
    "            ret, frame = cap.read() # Read the frames\n",
    "\n",
    "            if not ret:\n",
    "                break\n",
    "\n",
    "            frame_counter = int(cap.get(cv2.CAP_PROP_POS_FRAMES))\n",
    "\n",
    "            # for current frame, check all visible items\n",
    "            if str(frame_counter) in data_frames:\n",
    "                for item in data_frames[str(frame_counter)]:\n",
    "                    item_id = item['visibleObjectId']\n",
    "                    color = colormap.get_color(item_id)\n",
    "\n",
    "                    # for visible item, get position at current frame and paint rectangle in\n",
    "                    if frame_counter in data_objects[item_id]:\n",
    "                        bbox = data_objects[item_id][frame_counter]['rectangle']\n",
    "                        x1 = bbox[0]['x']\n",
    "                        y1 = bbox[0]['y']\n",
    "                        x2 = x1 + bbox[0]['w']\n",
    "                        y2 = y1 + bbox[0]['h']\n",
    "                        cv2.rectangle(frame, (x1, y1), (x2, y2), color, 2)\n",
    "                        cv2.putText(frame, str(item_id[:3]), (x1, y1-10), font, 0.5, color, 2)\n",
    "\n",
    "            # Display fps and frame count\n",
    "            new_time = time.time()\n",
    "            cv2.putText(frame, 'FPS: %.2f' % (1/(new_time-prev_time)), (10, 20), font, 0.5, [0,250,0], 2)\n",
    "            prev_time = new_time\n",
    "            cv2.putText(frame, 'Frame: %d' % (frame_counter), (10, 50), font, 0.5, [0,250,0], 2)\n",
    "            cv2.putText(frame, 'Time: %f' % (frame_counter/video_fps), (10, 80), font, 0.5, [0,250,0], 2)\n",
    "\n",
    "        # Display the image\n",
    "        cv2.imshow(window_name,frame)\n",
    "\n",
    "        # Wait for any key press and pass it to the key action\n",
    "        key = cv2.waitKey(1)\n",
    "        key_action(key)\n",
    "finally:\n",
    "    cap.release()\n",
    "    cv2.destroyAllWindows()"
   ],
   "metadata": {
    "collapsed": false,
    "pycharm": {
     "name": "#%%\n"
    }
   }
  }
 ],
 "metadata": {
  "kernelspec": {
   "display_name": "Python 3",
   "language": "python",
   "name": "python3"
  },
  "language_info": {
   "codemirror_mode": {
    "name": "ipython",
    "version": 3
   },
   "file_extension": ".py",
   "mimetype": "text/x-python",
   "name": "python",
   "nbconvert_exporter": "python",
   "pygments_lexer": "ipython3",
   "version": "3.9.4"
  }
 },
 "nbformat": 4,
 "nbformat_minor": 2
}
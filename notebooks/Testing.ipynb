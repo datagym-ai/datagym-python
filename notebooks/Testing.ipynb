{
 "cells": [
  {
   "cell_type": "markdown",
   "metadata": {},
   "source": [
    "# TESTING"
   ]
  },
  {
   "cell_type": "code",
   "execution_count": 88,
   "metadata": {},
   "outputs": [],
   "source": [
    "# Consts\n",
    "\n",
    "API_KEY = \"9489b7a6-fa4f-423e-8596-8ce5b3a74cb0\"\n",
    "\n",
    "DATASET_NAME_1 = \"Cats from Pixabay\"\n",
    "\n",
    "NEW_DATASET_NAME_1 = \"My First Dataset\"\n",
    "\n",
    "PROJECT_NAME_1 = \"Cats\"\n",
    "PROJECT_NAME_2 = \"Empty Project\"\n",
    "PROJECT_NAME_3 = \"Dummy Project\"\n",
    "\n",
    "\n",
    "IMAGE_URL_CATS_1 = \"https://cdn.pixabay.com/photo/2017/06/12/19/02/cat-2396473__480.jpg\"\n",
    "IMAGE_URL_CATS_2 = \"https://cdn.pixabay.com/photo/2015/06/03/13/13/cats-796437__480.jpg\"\n",
    "IMAGE_URL_CATS_3 = \"https://cdn.pixabay.com/photo/2012/11/26/13/58/cat-67345__480.jpg\"\n",
    "IMAGE_URL_CATS_4 = \"https://cdn.pixabay.com/photo/2014/09/18/20/17/cat-451377__480.jpg\"\n",
    "IMAGE_URL_CATS_5 = \"https://cdn.pixabay.com/photo/2015/01/31/12/36/cat-618470__480.jpg\"\n",
    "\n",
    "IMAGE_SEARCH_STRING_1 = \"cat-2396473__480.jpg\"\n",
    "IMAGE_SEARCH_STRING_REGEX_1 = \".*cat-2.*\""
   ]
  },
  {
   "cell_type": "code",
   "execution_count": 1,
   "metadata": {},
   "outputs": [],
   "source": [
    "from datagym import Client"
   ]
  },
  {
   "cell_type": "markdown",
   "metadata": {},
   "source": [
    "### Create a Client\n",
    "#### Client success:"
   ]
  },
  {
   "cell_type": "code",
   "execution_count": 3,
   "metadata": {},
   "outputs": [],
   "source": [
    "client = Client(api_key=API_KEY)"
   ]
  },
  {
   "cell_type": "markdown",
   "metadata": {},
   "source": [
    "#### Client fail:\n",
    "    raise: InvalidTokenException\n",
    "   "
   ]
  },
  {
   "cell_type": "code",
   "execution_count": 4,
   "metadata": {},
   "outputs": [
    {
     "ename": "InvalidTokenException",
     "evalue": "HTTP 500 | Message: \"Unauthorized. None or invalid credentials.\"",
     "output_type": "error",
     "traceback": [
      "\u001b[0;31m---------------------------------------------------------------------------\u001b[0m",
      "\u001b[0;31mInvalidTokenException\u001b[0m                     Traceback (most recent call last)",
      "\u001b[0;32m<ipython-input-4-19a81a385711>\u001b[0m in \u001b[0;36m<module>\u001b[0;34m\u001b[0m\n\u001b[0;32m----> 1\u001b[0;31m \u001b[0mclient\u001b[0m \u001b[0;34m=\u001b[0m \u001b[0mClient\u001b[0m\u001b[0;34m(\u001b[0m\u001b[0mapi_key\u001b[0m\u001b[0;34m=\u001b[0m\u001b[0mAPI_KEY\u001b[0m \u001b[0;34m+\u001b[0m \u001b[0;34m\"too much token\"\u001b[0m\u001b[0;34m)\u001b[0m\u001b[0;34m\u001b[0m\u001b[0;34m\u001b[0m\u001b[0m\n\u001b[0m",
      "\u001b[0;32m~/Projects/Datagym/jupyter_test/venv/lib/python3.8/site-packages/datagym/client.py\u001b[0m in \u001b[0;36m__init__\u001b[0;34m(self, api_key)\u001b[0m\n\u001b[1;32m     25\u001b[0m \u001b[0;34m\u001b[0m\u001b[0m\n\u001b[1;32m     26\u001b[0m         \u001b[0;32mif\u001b[0m \u001b[0;32mnot\u001b[0m \u001b[0mresponse\u001b[0m\u001b[0;34m.\u001b[0m\u001b[0mok\u001b[0m\u001b[0;34m:\u001b[0m\u001b[0;34m\u001b[0m\u001b[0;34m\u001b[0m\u001b[0m\n\u001b[0;32m---> 27\u001b[0;31m             \u001b[0;32mraise\u001b[0m \u001b[0mInvalidTokenException\u001b[0m\u001b[0;34m(\u001b[0m\u001b[0mmsg_builder\u001b[0m\u001b[0;34m=\u001b[0m\u001b[0mself\u001b[0m\u001b[0;34m.\u001b[0m\u001b[0m_msg_builder\u001b[0m\u001b[0;34m,\u001b[0m \u001b[0mkey\u001b[0m\u001b[0;34m=\u001b[0m\u001b[0;34m'ex_unauthorized'\u001b[0m\u001b[0;34m,\u001b[0m \u001b[0mparams\u001b[0m\u001b[0;34m=\u001b[0m\u001b[0;34m[\u001b[0m\u001b[0;34m]\u001b[0m\u001b[0;34m,\u001b[0m \u001b[0mcode\u001b[0m\u001b[0;34m=\u001b[0m\u001b[0;36m500\u001b[0m\u001b[0;34m)\u001b[0m\u001b[0;34m\u001b[0m\u001b[0;34m\u001b[0m\u001b[0m\n\u001b[0m\u001b[1;32m     28\u001b[0m \u001b[0;34m\u001b[0m\u001b[0m\n\u001b[1;32m     29\u001b[0m     \u001b[0;32mdef\u001b[0m \u001b[0m__repr__\u001b[0m\u001b[0;34m(\u001b[0m\u001b[0mself\u001b[0m\u001b[0;34m)\u001b[0m\u001b[0;34m:\u001b[0m\u001b[0;34m\u001b[0m\u001b[0;34m\u001b[0m\u001b[0m\n",
      "\u001b[0;31mInvalidTokenException\u001b[0m: HTTP 500 | Message: \"Unauthorized. None or invalid credentials.\""
     ]
    }
   ],
   "source": [
    "client = Client(api_key=API_KEY + \"too much token\")"
   ]
  },
  {
   "cell_type": "markdown",
   "metadata": {},
   "source": [
    "## Projects\n",
    "### Get Projects"
   ]
  },
  {
   "cell_type": "code",
   "execution_count": 7,
   "metadata": {},
   "outputs": [
    {
     "name": "stdout",
     "output_type": "stream",
     "text": [
      "You have 3 Projects!\n"
     ]
    }
   ],
   "source": [
    "projects = client.get_projects()\n",
    "\n",
    "print(f'You have {len(projects)} Projects!')"
   ]
  },
  {
   "cell_type": "markdown",
   "metadata": {},
   "source": [
    "### Get Project By Name"
   ]
  },
  {
   "cell_type": "code",
   "execution_count": 21,
   "metadata": {},
   "outputs": [
    {
     "name": "stdout",
     "output_type": "stream",
     "text": [
      "<Project {'id': 'b0067ebb-4c07-45b0-8c82-032f58088b1a', 'name': 'Cats', 'short_description': 'Labeling Cats Task', 'timestamp': '1583830301307', 'label_config_id': 'f715db25-8dcd-4e60-9698-8ea5afc10e7b', 'label_iteration_id': '5aa7ca31-2118-423f-8140-3dc35fddf127', 'owner': '3360f10f-a5ab-48a6-966c-cdba2d63116a', 'datasets': <List[Dataset] with 1 elements>}>\n"
     ]
    }
   ],
   "source": [
    "project_1 = client.get_project_by_name(PROJECT_NAME_1)\n",
    "\n",
    "print(project)"
   ]
  },
  {
   "cell_type": "markdown",
   "metadata": {},
   "source": [
    "### Get Dataset from Project"
   ]
  },
  {
   "cell_type": "code",
   "execution_count": 22,
   "metadata": {},
   "outputs": [
    {
     "name": "stdout",
     "output_type": "stream",
     "text": [
      "<Dataset {'id': '8d1a38d5-532e-4dd5-a5a3-b8356afb6c19', 'name': 'Cats from Pixabay', 'short_description': 'None', 'timestamp': '1583830330374', 'owner': '3360f10f-a5ab-48a6-966c-cdba2d63116a', 'images': <List[Image] with 2330 elements>}>\n"
     ]
    }
   ],
   "source": [
    "dataset_1 = project_1.get_dataset_by_name(dataset_name=DATASET_NAME_1)\n",
    "\n",
    "print(dataset_1)"
   ]
  },
  {
   "cell_type": "markdown",
   "metadata": {},
   "source": [
    "### Get Images by Name from a Project\n",
    "<p> with a precise search term: returns images if search_term == image_name:</p>"
   ]
  },
  {
   "cell_type": "code",
   "execution_count": 26,
   "metadata": {},
   "outputs": [
    {
     "name": "stdout",
     "output_type": "stream",
     "text": [
      "Found 2 Images for search term 'cat-2396473__480.jpg'\n"
     ]
    }
   ],
   "source": [
    "images_1 = project_1.get_images_by_name(IMAGE_SEARCH_STRING_1)\n",
    "\n",
    "print(f'Found {len(images_1)} Images for search term \\'{IMAGE_SEARCH_STRING_1}\\'')"
   ]
  },
  {
   "cell_type": "markdown",
   "metadata": {},
   "source": [
    "<br />\n",
    "With a regular expression: returns images if search_term matches image_name:"
   ]
  },
  {
   "cell_type": "code",
   "execution_count": 33,
   "metadata": {},
   "outputs": [
    {
     "name": "stdout",
     "output_type": "stream",
     "text": [
      "Found 394 Images for search term '.*cat-2.*' in Project 'Cats'\n",
      "\n",
      "[<Image {'id': '9f59e157-cd43-43ac-b998-4197bbe401db', 'image_name': 'cat-2144133__480.jpg', 'image_type': 'SHAREABLE_LINK', 'timestamp': 1583831745119}>, <Image {'id': '62be520b-e513-44a5-931b-b123a9068aeb', 'image_name': 'cat-2393308__480.jpg', 'image_type': 'SHAREABLE_LINK', 'timestamp': 1583831714382}>]\n"
     ]
    }
   ],
   "source": [
    "images_regex_1 = project_1.get_images_by_name(IMAGE_SEARCH_STRING_REGEX_1, regex=True)\n",
    "\n",
    "print(f'Found {len(images_regex_1)} Images for search term \\'{IMAGE_SEARCH_STRING_REGEX_1}\\' in Project \\'{project_1.name}\\'\\n')\n",
    "print(images_regex_1[:2])"
   ]
  },
  {
   "cell_type": "markdown",
   "metadata": {},
   "source": [
    "## Datasets\n",
    "### Get Datasets"
   ]
  },
  {
   "cell_type": "code",
   "execution_count": 34,
   "metadata": {},
   "outputs": [
    {
     "name": "stdout",
     "output_type": "stream",
     "text": [
      "You have 11 Datasets!\n"
     ]
    }
   ],
   "source": [
    "datasets = client.get_datasets()\n",
    "\n",
    "print(f'You have {len(datasets)} Datasets!')"
   ]
  },
  {
   "cell_type": "markdown",
   "metadata": {},
   "source": [
    "### Get Datasets by Name"
   ]
  },
  {
   "cell_type": "code",
   "execution_count": 35,
   "metadata": {},
   "outputs": [
    {
     "name": "stdout",
     "output_type": "stream",
     "text": [
      "<Dataset {'id': '8d1a38d5-532e-4dd5-a5a3-b8356afb6c19', 'name': 'Cats from Pixabay', 'short_description': 'None', 'timestamp': '1583830330374', 'owner': '3360f10f-a5ab-48a6-966c-cdba2d63116a', 'images': <List[Image] with 2330 elements>}>\n"
     ]
    }
   ],
   "source": [
    "dataset_1 = client.get_dataset_by_name(DATASET_NAME_1)\n",
    "\n",
    "print(dataset_1)"
   ]
  },
  {
   "cell_type": "markdown",
   "metadata": {},
   "source": [
    "### Get Images by Name within a Dataset\n",
    "<p> with a precise search term: returns images if search_term == image_name:</p>"
   ]
  },
  {
   "cell_type": "code",
   "execution_count": 36,
   "metadata": {},
   "outputs": [
    {
     "name": "stdout",
     "output_type": "stream",
     "text": [
      "Found 2 Images for search term 'cat-2396473__480.jpg' in Dataset 'Cats from Pixabay'\n"
     ]
    }
   ],
   "source": [
    "images_1 = dataset_1.get_images_by_name(IMAGE_SEARCH_STRING_1)\n",
    "\n",
    "print(f'Found {len(images_1)} Images for search term \\'{IMAGE_SEARCH_STRING_1}\\' in Dataset \\'{dataset_1.name}\\'')"
   ]
  },
  {
   "cell_type": "markdown",
   "metadata": {},
   "source": [
    "<br />\n",
    "With a regular expression: returns images if search_term matches image_name:"
   ]
  },
  {
   "cell_type": "code",
   "execution_count": 37,
   "metadata": {},
   "outputs": [
    {
     "name": "stdout",
     "output_type": "stream",
     "text": [
      "Found 394 Images for search term '.*cat-2.*' in Dataset 'Cats from Pixabay'\n",
      "\n",
      "[<Image {'id': '36dadfba-2d25-4750-affc-4310b8b55185', 'image_name': 'cat-2393308__480.jpg', 'image_type': 'SHAREABLE_LINK', 'timestamp': 1583831710571}>, <Image {'id': '3920645e-a6d8-4884-9875-c7b0aa57ff23', 'image_name': 'cat-232960__480.jpg', 'image_type': 'SHAREABLE_LINK', 'timestamp': 1583831695116}>]\n"
     ]
    }
   ],
   "source": [
    "images_regex_1 = dataset_1.get_images_by_name(IMAGE_SEARCH_STRING_REGEX_1, regex=True)\n",
    "\n",
    "print(f'Found {len(images_regex_1)} Images for search term \\'{IMAGE_SEARCH_STRING_REGEX_1}\\' in Dataset \\'{dataset_1.name}\\'\\n')\n",
    "print(images_regex_1[:2])"
   ]
  },
  {
   "cell_type": "markdown",
   "metadata": {},
   "source": [
    "### Create Dataset "
   ]
  },
  {
   "cell_type": "code",
   "execution_count": 39,
   "metadata": {},
   "outputs": [
    {
     "name": "stdout",
     "output_type": "stream",
     "text": [
      "<Dataset {'id': 'fe810255-ae2a-4ce2-b28c-2a023f6f6e05', 'name': 'My First Dataset', 'short_description': 'This is Optional', 'timestamp': '1584710883613', 'owner': '3360f10f-a5ab-48a6-966c-cdba2d63116a', 'images': <List[Image] with 0 elements>}>\n"
     ]
    }
   ],
   "source": [
    "owner_id = project.owner\n",
    "new_dataset_1 = client.create_dataset(name=NEW_DATASET_NAME_1, \n",
    "                                      owner=owner_id,\n",
    "                                      short_description=\"This is Optional\"\n",
    "                                     )\n",
    "print(new_dataset_1)"
   ]
  },
  {
   "cell_type": "markdown",
   "metadata": {},
   "source": [
    "#### Upload Images to Dataset:\n",
    "\n",
    "You can add as many images to your new Dataset as you want!"
   ]
  },
  {
   "cell_type": "code",
   "execution_count": 53,
   "metadata": {},
   "outputs": [
    {
     "name": "stdout",
     "output_type": "stream",
     "text": [
      "[{'imageUploadStatus': 'SUCCESS',\n",
      "  'imageUrl': 'https://cdn.pixabay.com/photo/2015/06/03/13/13/cats-796437__480.jpg'},\n",
      " {'imageUploadStatus': 'SUCCESS',\n",
      "  'imageUrl': 'https://cdn.pixabay.com/photo/2017/06/12/19/02/cat-2396473__480.jpg'},\n",
      " {'imageUploadStatus': 'SUCCESS',\n",
      "  'imageUrl': 'https://cdn.pixabay.com/photo/2012/11/26/13/58/cat-67345__480.jpg'}]\n"
     ]
    }
   ],
   "source": [
    "import pprint\n",
    "images_to_upload = set([IMAGE_URL_CATS_1, IMAGE_URL_CATS_2, IMAGE_URL_CATS_3])\n",
    "\n",
    "images_created = client.create_images_from_urls(dataset_id=new_dataset_1.id,\n",
    "                                                image_url_set=images_to_upload)\n",
    "\n",
    "pprint.pprint(images_created)"
   ]
  },
  {
   "cell_type": "markdown",
   "metadata": {},
   "source": [
    "#### Download Images from your Dataset:\n",
    "\n",
    "You can also download Images from your Datasets"
   ]
  },
  {
   "cell_type": "code",
   "execution_count": 64,
   "metadata": {},
   "outputs": [
    {
     "name": "stdout",
     "output_type": "stream",
     "text": [
      "Your Dataset has 3 Images!\n",
      "Let's take the first image named 'cats-796437__480.jpg'\n"
     ]
    }
   ],
   "source": [
    "# Get the latest version of your new dataset\n",
    "\n",
    "new_dataset_1 = client.get_dataset_by_name(NEW_DATASET_NAME_1) \n",
    "img_1 = new_dataset_1.images[0]\n",
    "\n",
    "print(f'Your Dataset has {len(new_dataset_1.images)} Images!')\n",
    "print(f'Let\\'s take the first image named \\'{img_1.image_name}\\'')"
   ]
  },
  {
   "cell_type": "markdown",
   "metadata": {},
   "source": [
    "<br />\n",
    "<p>Download your Image directly into your application</p>"
   ]
  },
  {
   "cell_type": "code",
   "execution_count": 65,
   "metadata": {},
   "outputs": [],
   "source": [
    "img_bytes_1 = client.download_image_bytes(image_id=img_1.id)"
   ]
  },
  {
   "cell_type": "markdown",
   "metadata": {},
   "source": [
    "<br />\n",
    "<p> Now you can process your images as you like! </p>"
   ]
  },
  {
   "cell_type": "code",
   "execution_count": 66,
   "metadata": {},
   "outputs": [
    {
     "data": {
      "text/plain": [
       "<matplotlib.image.AxesImage at 0x7fda0167b6a0>"
      ]
     },
     "execution_count": 66,
     "metadata": {},
     "output_type": "execute_result"
    },
    {
     "data": {
      "image/png": "[encoded data removed]",
      "text/plain": [
       "<Figure size 432x288 with 1 Axes>"
      ]
     },
     "metadata": {
      "needs_background": "light"
     },
     "output_type": "display_data"
    }
   ],
   "source": [
    "from matplotlib.pyplot import imshow\n",
    "import numpy as np\n",
    "from PIL import Image\n",
    "import io\n",
    "\n",
    "image = Image.open(io.BytesIO(img_bytes_1))\n",
    "%matplotlib inline\n",
    "#image.show()\n",
    "imshow(np.asarray(image))"
   ]
  },
  {
   "cell_type": "markdown",
   "metadata": {},
   "source": [
    "... or download the image directly to your storage:"
   ]
  },
  {
   "cell_type": "code",
   "execution_count": 67,
   "metadata": {},
   "outputs": [],
   "source": [
    "# img_bytes_1 = client.download_image(new_dataset_1.images[0].id,)"
   ]
  },
  {
   "cell_type": "markdown",
   "metadata": {},
   "source": [
    "#### Delete Images from Datasets"
   ]
  },
  {
   "cell_type": "code",
   "execution_count": 83,
   "metadata": {},
   "outputs": [
    {
     "name": "stdout",
     "output_type": "stream",
     "text": [
      "Before Delete: Your Dataset has 3 Images!\n",
      "After Delete: Your Dataset has 2 Images!\n"
     ]
    }
   ],
   "source": [
    "new_dataset_1 = client.get_dataset_by_name(NEW_DATASET_NAME_1) \n",
    "img_2 = new_dataset_1.images[2]\n",
    "\n",
    "delete_success = client.delete_image(image_id=img_2.id)\n",
    "\n",
    "\n",
    "print(f'Before Delete: Your Dataset has {len(new_dataset_1.images)} Images!')\n",
    "new_dataset_1 = client.get_dataset_by_name(NEW_DATASET_NAME_1) \n",
    "print(f'After Delete: Your Dataset has {len(new_dataset_1.images)} Images!')"
   ]
  },
  {
   "cell_type": "markdown",
   "metadata": {},
   "source": [
    "### Add Datasets to your Projects\n",
    "\n",
    "Now that you have created your first dataset we can add it to a Project "
   ]
  },
  {
   "cell_type": "code",
   "execution_count": 79,
   "metadata": {},
   "outputs": [
    {
     "name": "stdout",
     "output_type": "stream",
     "text": [
      "Your Project has 1 connected Datasets.\n"
     ]
    }
   ],
   "source": [
    "new_dataset_1 = client.get_dataset_by_name(NEW_DATASET_NAME_1) \n",
    "empty_project = client.get_project_by_name(PROJECT_NAME_2)\n",
    "\n",
    "print(f'Your Project has {len(empty_project.datasets)} connected Datasets.')\n",
    "\n",
    "added_success = client.add_dataset(dataset_id=new_dataset_1.id,\n",
    "                                   project_id=empty_project.id)"
   ]
  },
  {
   "cell_type": "markdown",
   "metadata": {},
   "source": [
    "Don't forget to fetch your Project again with the Client to get the latest updates"
   ]
  },
  {
   "cell_type": "code",
   "execution_count": 76,
   "metadata": {},
   "outputs": [
    {
     "name": "stdout",
     "output_type": "stream",
     "text": [
      "Now your Project has 2 connected Datasets.\n"
     ]
    }
   ],
   "source": [
    "empty_project = client.get_project_by_name(PROJECT_NAME_2)\n",
    "\n",
    "print(f'Now your Project has {len(empty_project.datasets)} connected Datasets.')"
   ]
  },
  {
   "cell_type": "markdown",
   "metadata": {},
   "source": [
    "### Remove Datasets from your Projects\n",
    "\n",
    "You can also remove these Datasets from you Projects"
   ]
  },
  {
   "cell_type": "code",
   "execution_count": 80,
   "metadata": {},
   "outputs": [
    {
     "name": "stdout",
     "output_type": "stream",
     "text": [
      "Your Project has 1 connected Datasets.\n"
     ]
    }
   ],
   "source": [
    "new_dataset_1 = client.get_dataset_by_name(NEW_DATASET_NAME_1) \n",
    "empty_project = client.get_project_by_name(PROJECT_NAME_2)\n",
    "\n",
    "removed_success = client.remove_dataset(dataset_id=new_dataset_1.id,\n",
    "                                        project_id=empty_project.id)\n",
    "\n",
    "empty_project = client.get_project_by_name(PROJECT_NAME_2) # fetch to get the latest updates\n",
    "print(f'Your Project has {len(empty_project.datasets)} connected Datasets.')"
   ]
  },
  {
   "cell_type": "markdown",
   "metadata": {},
   "source": [
    "## Export Labels\n",
    "\n",
    "You can export and process your labeled data from your Projects within seconds "
   ]
  },
  {
   "cell_type": "code",
   "execution_count": 100,
   "metadata": {},
   "outputs": [
    {
     "name": "stdout",
     "output_type": "stream",
     "text": [
      "This project has 2 labeled Images\n"
     ]
    }
   ],
   "source": [
    "project_2 = client.get_project_by_name(\"Dummy_Project\")\n",
    "\n",
    "exported_labels = client.export_labels(project_id=project_2.id)\n",
    "\n",
    "print(f'This project has {len(exported_labels) - 1} labeled Images')"
   ]
  },
  {
   "cell_type": "markdown",
   "metadata": {},
   "source": [
    "You can also generate a URL to download the .json-file via your Browser:"
   ]
  },
  {
   "cell_type": "code",
   "execution_count": 104,
   "metadata": {},
   "outputs": [
    {
     "name": "stdout",
     "output_type": "stream",
     "text": [
      "Click to download: http://localhost:8080/api/v1/export/b1f53633-f3aa-4f9a-9195-a9a651f739df?token=9489b7a6-fa4f-423e-8596-8ce5b3a74cb0\n"
     ]
    }
   ],
   "source": [
    "exported_labels_url = client.export_labels_url(project_id=project_2.id)\n",
    "\n",
    "print(f'Click to download: {exported_labels_url}')"
   ]
  },
  {
   "cell_type": "markdown",
   "metadata": {},
   "source": [
    "### Keep your en.json up-to-date!"
   ]
  },
  {
   "cell_type": "code",
   "execution_count": 72,
   "metadata": {},
   "outputs": [
    {
     "name": "stdout",
     "output_type": "stream",
     "text": [
      "The current {} already contains this {}.\n",
      "The current o already contains this k.\n"
     ]
    }
   ],
   "source": [
    "a = \"The current {{p0}} already contains this {{p1}}.\".replace(\"{{\", \"{\").replace(\"}}\", \"}\")\n",
    "a = re.sub(\"{..}\", \"{}\", a)\n",
    "print(a)\n",
    "print(a.format(\"o\", \"k\"))"
   ]
  }
 ],
 "metadata": {
  "kernelspec": {
   "display_name": "Python 3",
   "language": "python",
   "name": "python3"
  },
  "language_info": {
   "codemirror_mode": {
    "name": "ipython",
    "version": 3
   },
   "file_extension": ".py",
   "mimetype": "text/x-python",
   "name": "python",
   "nbconvert_exporter": "python",
   "pygments_lexer": "ipython3",
   "version": "3.8.1"
  }
 },
 "nbformat": 4,
 "nbformat_minor": 4
}
